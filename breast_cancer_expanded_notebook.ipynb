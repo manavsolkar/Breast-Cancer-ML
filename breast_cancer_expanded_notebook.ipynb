# src/eda.py
import matplotlib.pyplot as plt
import pandas as pd
import seaborn as sns
from sklearn.datasets import load_breast_cancer
from pathlib import Path
import numpy as np

BASE = Path(__file__).resolve().parents[1]
REPORT = BASE / "report"
REPORT.mkdir(exist_ok=True, parents=True)

def main():
    data = load_breast_cancer()
    X = pd.DataFrame(data.data, columns=data.feature_names)
    y = pd.Series(data.target, name="target")

    df = pd.concat([X, y], axis=1)
    df.to_csv(REPORT / "data_snapshot.csv", index=False)

    # Target counts
    counts = y.value_counts().sort_index()
    counts.plot(kind="bar")
    plt.xticks([0,1], ["malignant (0)", "benign (1)"])
    plt.ylabel("count")
    plt.title("Target distribution")
    plt.savefig(REPORT / "target_distribution.png", bbox_inches="tight")
    plt.close()

    # Correlation heatmap (show top correlated features to target)
    corr = df.corr()
    plt.figure(figsize=(12,10))
    sns.heatmap(corr, cmap="RdBu_r", center=0, vmax=1, vmin=-1)
    plt.title("Feature Correlation Heatmap")
    plt.savefig(REPORT / "correlation_heatmap.png", bbox_inches="tight")
    plt.close()

    # Pairwise examples: pick 4 informative features
    sample_feats = ["mean radius", "mean texture", "mean perimeter", "mean smoothness"]
    sns.pairplot(df[sample_feats + ["target"]], hue="target", plot_kws={"alpha":0.6})
    plt.savefig(REPORT / "pairplot_sample_features.png", bbox_inches="tight")
    plt.close()

    # Boxplots for a few features split by target
    for col in sample_feats:
        plt.figure(figsize=(6,4))
        sns.boxplot(x="target", y=col, data=df)
        plt.title(f"Boxplot: {col} by target")
        plt.savefig(REPORT / f"box_{col.replace(' ', '_')}.png", bbox_inches="tight")
        plt.close()

    # Summary stats
    stats = X.describe().T
    stats.to_csv(REPORT / "feature_summary_stats.csv")

    print("EDA completed. Artifacts saved to report/")

if __name__ == "__main__":
    main()
